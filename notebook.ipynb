{
 "cells": [
  {
   "cell_type": "markdown",
   "metadata": {},
   "source": [
    "# Binomial Regression of NSW Covid test data\n",
    "\n",
    "This notebook explores the NSW Covid 19 test data to look for patterns ... blah blah\n",
    "\n",
    "URL: https://data.nsw.gov.au/data/dataset/5424aa3b-550d-4637-ae50-7f458ce327f4/resource/227f6b65-025c-482c-9f22-a25cf1b8594f/download/covid-19-tests-by-date-and-location-and-result.csv\n",
    "\n",
    "The data are categorised by date and postcode, local health district, local government area, and result. Updated daily. Fetched on Thu 15 Oct 2020 at 5:00pm.\n",
    "\n",
    "A surge on a given day does not indicate a surge in tests for that day. Test data are updated in batches after a weekend as normal work hours commence, and also as laboratories gain new testing capacity.\n",
    "\n",
    "The NSW government provides assurances that the data are anonymised and no single person can be identified from the dataset."
   ]
  },
  {
   "cell_type": "markdown",
   "metadata": {},
   "source": [
    "Current knowledge is that Melbourne and NSW have had the most positive confirmed cases. We will find the probability of whether a person is likely to test positive based on the region in which they live in NSW, then use the binomial distribution to determine the likelihood that probability is indicative of the realworld; i.e. true."
   ]
  },
  {
   "cell_type": "code",
   "execution_count": 66,
   "metadata": {},
   "outputs": [],
   "source": [
    "# load the relevant libraries\n",
    "import pandas as pd\n",
    "import numpy as np\n",
    "import seaborn as sns\n",
    "from scipy.stats import binom\n",
    "import matplotlib.pyplot as plt"
   ]
  },
  {
   "cell_type": "code",
   "execution_count": 10,
   "metadata": {},
   "outputs": [],
   "source": [
    "# load in the dataset\n",
    "# make relevant adjustments to the datatype after inspecting in excel\n",
    "df = pd.read_csv(\n",
    "    'covid-19-tests-by-date-and-location-and-result.csv',\n",
    "    dtype={'postcode': 'Int64', 'lga_code19': 'Int64'},\n",
    "    parse_dates=['test_date']\n",
    ")"
   ]
  },
  {
   "cell_type": "code",
   "execution_count": 11,
   "metadata": {},
   "outputs": [
    {
     "data": {
      "text/html": [
       "<div>\n",
       "<style scoped>\n",
       "    .dataframe tbody tr th:only-of-type {\n",
       "        vertical-align: middle;\n",
       "    }\n",
       "\n",
       "    .dataframe tbody tr th {\n",
       "        vertical-align: top;\n",
       "    }\n",
       "\n",
       "    .dataframe thead th {\n",
       "        text-align: right;\n",
       "    }\n",
       "</style>\n",
       "<table border=\"1\" class=\"dataframe\">\n",
       "  <thead>\n",
       "    <tr style=\"text-align: right;\">\n",
       "      <th></th>\n",
       "      <th>test_date</th>\n",
       "      <th>postcode</th>\n",
       "      <th>lhd_2010_code</th>\n",
       "      <th>lhd_2010_name</th>\n",
       "      <th>lga_code19</th>\n",
       "      <th>lga_name19</th>\n",
       "      <th>result</th>\n",
       "    </tr>\n",
       "  </thead>\n",
       "  <tbody>\n",
       "    <tr>\n",
       "      <th>0</th>\n",
       "      <td>2020-01-01</td>\n",
       "      <td>2039</td>\n",
       "      <td>X700</td>\n",
       "      <td>Sydney</td>\n",
       "      <td>14170</td>\n",
       "      <td>Inner West (A)</td>\n",
       "      <td>Tested &amp; excluded</td>\n",
       "    </tr>\n",
       "    <tr>\n",
       "      <th>1</th>\n",
       "      <td>2020-01-01</td>\n",
       "      <td>2040</td>\n",
       "      <td>X700</td>\n",
       "      <td>Sydney</td>\n",
       "      <td>14170</td>\n",
       "      <td>Inner West (A)</td>\n",
       "      <td>Tested &amp; excluded</td>\n",
       "    </tr>\n",
       "    <tr>\n",
       "      <th>2</th>\n",
       "      <td>2020-01-01</td>\n",
       "      <td>2069</td>\n",
       "      <td>X760</td>\n",
       "      <td>Northern Sydney</td>\n",
       "      <td>14500</td>\n",
       "      <td>Ku-ring-gai (A)</td>\n",
       "      <td>Tested &amp; excluded</td>\n",
       "    </tr>\n",
       "    <tr>\n",
       "      <th>3</th>\n",
       "      <td>2020-01-01</td>\n",
       "      <td>2110</td>\n",
       "      <td>X760</td>\n",
       "      <td>Northern Sydney</td>\n",
       "      <td>14100</td>\n",
       "      <td>Hunters Hill (A)</td>\n",
       "      <td>Tested &amp; excluded</td>\n",
       "    </tr>\n",
       "    <tr>\n",
       "      <th>4</th>\n",
       "      <td>2020-01-01</td>\n",
       "      <td>2190</td>\n",
       "      <td>X710</td>\n",
       "      <td>South Western Sydney</td>\n",
       "      <td>11570</td>\n",
       "      <td>Canterbury-Bankstown (A)</td>\n",
       "      <td>Tested &amp; excluded</td>\n",
       "    </tr>\n",
       "  </tbody>\n",
       "</table>\n",
       "</div>"
      ],
      "text/plain": [
       "   test_date  postcode lhd_2010_code         lhd_2010_name  lga_code19  \\\n",
       "0 2020-01-01      2039          X700                Sydney       14170   \n",
       "1 2020-01-01      2040          X700                Sydney       14170   \n",
       "2 2020-01-01      2069          X760       Northern Sydney       14500   \n",
       "3 2020-01-01      2110          X760       Northern Sydney       14100   \n",
       "4 2020-01-01      2190          X710  South Western Sydney       11570   \n",
       "\n",
       "                 lga_name19             result  \n",
       "0            Inner West (A)  Tested & excluded  \n",
       "1            Inner West (A)  Tested & excluded  \n",
       "2           Ku-ring-gai (A)  Tested & excluded  \n",
       "3          Hunters Hill (A)  Tested & excluded  \n",
       "4  Canterbury-Bankstown (A)  Tested & excluded  "
      ]
     },
     "execution_count": 11,
     "metadata": {},
     "output_type": "execute_result"
    }
   ],
   "source": [
    "# inspect the data visually\n",
    "df.head()"
   ]
  },
  {
   "cell_type": "code",
   "execution_count": 13,
   "metadata": {},
   "outputs": [
    {
     "data": {
      "text/html": [
       "<div>\n",
       "<style scoped>\n",
       "    .dataframe tbody tr th:only-of-type {\n",
       "        vertical-align: middle;\n",
       "    }\n",
       "\n",
       "    .dataframe tbody tr th {\n",
       "        vertical-align: top;\n",
       "    }\n",
       "\n",
       "    .dataframe thead th {\n",
       "        text-align: right;\n",
       "    }\n",
       "</style>\n",
       "<table border=\"1\" class=\"dataframe\">\n",
       "  <thead>\n",
       "    <tr style=\"text-align: right;\">\n",
       "      <th></th>\n",
       "      <th>test_date</th>\n",
       "      <th>postcode</th>\n",
       "      <th>lhd_2010_code</th>\n",
       "      <th>lhd_2010_name</th>\n",
       "      <th>lga_code19</th>\n",
       "      <th>lga_name19</th>\n",
       "      <th>result</th>\n",
       "    </tr>\n",
       "  </thead>\n",
       "  <tbody>\n",
       "    <tr>\n",
       "      <th>539045</th>\n",
       "      <td>2020-06-08</td>\n",
       "      <td>&lt;NA&gt;</td>\n",
       "      <td>NaN</td>\n",
       "      <td>NaN</td>\n",
       "      <td>&lt;NA&gt;</td>\n",
       "      <td>NaN</td>\n",
       "      <td>Tested &amp; excluded</td>\n",
       "    </tr>\n",
       "    <tr>\n",
       "      <th>539046</th>\n",
       "      <td>2020-06-08</td>\n",
       "      <td>&lt;NA&gt;</td>\n",
       "      <td>NaN</td>\n",
       "      <td>NaN</td>\n",
       "      <td>&lt;NA&gt;</td>\n",
       "      <td>NaN</td>\n",
       "      <td>Tested &amp; excluded</td>\n",
       "    </tr>\n",
       "    <tr>\n",
       "      <th>539047</th>\n",
       "      <td>2020-06-08</td>\n",
       "      <td>&lt;NA&gt;</td>\n",
       "      <td>NaN</td>\n",
       "      <td>NaN</td>\n",
       "      <td>&lt;NA&gt;</td>\n",
       "      <td>NaN</td>\n",
       "      <td>Tested &amp; excluded</td>\n",
       "    </tr>\n",
       "    <tr>\n",
       "      <th>539048</th>\n",
       "      <td>2020-06-08</td>\n",
       "      <td>&lt;NA&gt;</td>\n",
       "      <td>NaN</td>\n",
       "      <td>NaN</td>\n",
       "      <td>&lt;NA&gt;</td>\n",
       "      <td>NaN</td>\n",
       "      <td>Tested &amp; excluded</td>\n",
       "    </tr>\n",
       "    <tr>\n",
       "      <th>539049</th>\n",
       "      <td>2020-06-08</td>\n",
       "      <td>&lt;NA&gt;</td>\n",
       "      <td>NaN</td>\n",
       "      <td>NaN</td>\n",
       "      <td>&lt;NA&gt;</td>\n",
       "      <td>NaN</td>\n",
       "      <td>Tested &amp; excluded</td>\n",
       "    </tr>\n",
       "  </tbody>\n",
       "</table>\n",
       "</div>"
      ],
      "text/plain": [
       "        test_date  postcode lhd_2010_code lhd_2010_name  lga_code19  \\\n",
       "539045 2020-06-08      <NA>           NaN           NaN        <NA>   \n",
       "539046 2020-06-08      <NA>           NaN           NaN        <NA>   \n",
       "539047 2020-06-08      <NA>           NaN           NaN        <NA>   \n",
       "539048 2020-06-08      <NA>           NaN           NaN        <NA>   \n",
       "539049 2020-06-08      <NA>           NaN           NaN        <NA>   \n",
       "\n",
       "       lga_name19             result  \n",
       "539045        NaN  Tested & excluded  \n",
       "539046        NaN  Tested & excluded  \n",
       "539047        NaN  Tested & excluded  \n",
       "539048        NaN  Tested & excluded  \n",
       "539049        NaN  Tested & excluded  "
      ]
     },
     "execution_count": 13,
     "metadata": {},
     "output_type": "execute_result"
    }
   ],
   "source": [
    "df.tail()"
   ]
  },
  {
   "cell_type": "markdown",
   "metadata": {},
   "source": [
    "The data appear normal, but it looks like there are sections where the data are completely anonymised. In this case we will assign a new flag in a new column: `anon`.\n",
    "\n",
    "Note that anonymised data are not people choosing to remain anonymous; rather this is a technique known as differential privacy."
   ]
  },
  {
   "cell_type": "code",
   "execution_count": 25,
   "metadata": {},
   "outputs": [],
   "source": [
    "df['anon'] = np.where(df.postcode.isnull(), True, False)"
   ]
  },
  {
   "cell_type": "code",
   "execution_count": 26,
   "metadata": {},
   "outputs": [
    {
     "data": {
      "text/html": [
       "<div>\n",
       "<style scoped>\n",
       "    .dataframe tbody tr th:only-of-type {\n",
       "        vertical-align: middle;\n",
       "    }\n",
       "\n",
       "    .dataframe tbody tr th {\n",
       "        vertical-align: top;\n",
       "    }\n",
       "\n",
       "    .dataframe thead th {\n",
       "        text-align: right;\n",
       "    }\n",
       "</style>\n",
       "<table border=\"1\" class=\"dataframe\">\n",
       "  <thead>\n",
       "    <tr style=\"text-align: right;\">\n",
       "      <th></th>\n",
       "      <th>test_date</th>\n",
       "      <th>postcode</th>\n",
       "      <th>lhd_2010_code</th>\n",
       "      <th>lhd_2010_name</th>\n",
       "      <th>lga_code19</th>\n",
       "      <th>lga_name19</th>\n",
       "      <th>result</th>\n",
       "      <th>anon</th>\n",
       "    </tr>\n",
       "  </thead>\n",
       "  <tbody>\n",
       "    <tr>\n",
       "      <th>0</th>\n",
       "      <td>2020-01-01</td>\n",
       "      <td>2039</td>\n",
       "      <td>X700</td>\n",
       "      <td>Sydney</td>\n",
       "      <td>14170</td>\n",
       "      <td>Inner West (A)</td>\n",
       "      <td>Tested &amp; excluded</td>\n",
       "      <td>False</td>\n",
       "    </tr>\n",
       "    <tr>\n",
       "      <th>1</th>\n",
       "      <td>2020-01-01</td>\n",
       "      <td>2040</td>\n",
       "      <td>X700</td>\n",
       "      <td>Sydney</td>\n",
       "      <td>14170</td>\n",
       "      <td>Inner West (A)</td>\n",
       "      <td>Tested &amp; excluded</td>\n",
       "      <td>False</td>\n",
       "    </tr>\n",
       "    <tr>\n",
       "      <th>2</th>\n",
       "      <td>2020-01-01</td>\n",
       "      <td>2069</td>\n",
       "      <td>X760</td>\n",
       "      <td>Northern Sydney</td>\n",
       "      <td>14500</td>\n",
       "      <td>Ku-ring-gai (A)</td>\n",
       "      <td>Tested &amp; excluded</td>\n",
       "      <td>False</td>\n",
       "    </tr>\n",
       "    <tr>\n",
       "      <th>3</th>\n",
       "      <td>2020-01-01</td>\n",
       "      <td>2110</td>\n",
       "      <td>X760</td>\n",
       "      <td>Northern Sydney</td>\n",
       "      <td>14100</td>\n",
       "      <td>Hunters Hill (A)</td>\n",
       "      <td>Tested &amp; excluded</td>\n",
       "      <td>False</td>\n",
       "    </tr>\n",
       "    <tr>\n",
       "      <th>4</th>\n",
       "      <td>2020-01-01</td>\n",
       "      <td>2190</td>\n",
       "      <td>X710</td>\n",
       "      <td>South Western Sydney</td>\n",
       "      <td>11570</td>\n",
       "      <td>Canterbury-Bankstown (A)</td>\n",
       "      <td>Tested &amp; excluded</td>\n",
       "      <td>False</td>\n",
       "    </tr>\n",
       "  </tbody>\n",
       "</table>\n",
       "</div>"
      ],
      "text/plain": [
       "   test_date  postcode lhd_2010_code         lhd_2010_name  lga_code19  \\\n",
       "0 2020-01-01      2039          X700                Sydney       14170   \n",
       "1 2020-01-01      2040          X700                Sydney       14170   \n",
       "2 2020-01-01      2069          X760       Northern Sydney       14500   \n",
       "3 2020-01-01      2110          X760       Northern Sydney       14100   \n",
       "4 2020-01-01      2190          X710  South Western Sydney       11570   \n",
       "\n",
       "                 lga_name19             result   anon  \n",
       "0            Inner West (A)  Tested & excluded  False  \n",
       "1            Inner West (A)  Tested & excluded  False  \n",
       "2           Ku-ring-gai (A)  Tested & excluded  False  \n",
       "3          Hunters Hill (A)  Tested & excluded  False  \n",
       "4  Canterbury-Bankstown (A)  Tested & excluded  False  "
      ]
     },
     "execution_count": 26,
     "metadata": {},
     "output_type": "execute_result"
    }
   ],
   "source": [
    "df.head()"
   ]
  },
  {
   "cell_type": "code",
   "execution_count": 27,
   "metadata": {},
   "outputs": [
    {
     "data": {
      "text/html": [
       "<div>\n",
       "<style scoped>\n",
       "    .dataframe tbody tr th:only-of-type {\n",
       "        vertical-align: middle;\n",
       "    }\n",
       "\n",
       "    .dataframe tbody tr th {\n",
       "        vertical-align: top;\n",
       "    }\n",
       "\n",
       "    .dataframe thead th {\n",
       "        text-align: right;\n",
       "    }\n",
       "</style>\n",
       "<table border=\"1\" class=\"dataframe\">\n",
       "  <thead>\n",
       "    <tr style=\"text-align: right;\">\n",
       "      <th></th>\n",
       "      <th>test_date</th>\n",
       "      <th>postcode</th>\n",
       "      <th>lhd_2010_code</th>\n",
       "      <th>lhd_2010_name</th>\n",
       "      <th>lga_code19</th>\n",
       "      <th>lga_name19</th>\n",
       "      <th>result</th>\n",
       "      <th>anon</th>\n",
       "    </tr>\n",
       "  </thead>\n",
       "  <tbody>\n",
       "    <tr>\n",
       "      <th>539045</th>\n",
       "      <td>2020-06-08</td>\n",
       "      <td>&lt;NA&gt;</td>\n",
       "      <td>NaN</td>\n",
       "      <td>NaN</td>\n",
       "      <td>&lt;NA&gt;</td>\n",
       "      <td>NaN</td>\n",
       "      <td>Tested &amp; excluded</td>\n",
       "      <td>True</td>\n",
       "    </tr>\n",
       "    <tr>\n",
       "      <th>539046</th>\n",
       "      <td>2020-06-08</td>\n",
       "      <td>&lt;NA&gt;</td>\n",
       "      <td>NaN</td>\n",
       "      <td>NaN</td>\n",
       "      <td>&lt;NA&gt;</td>\n",
       "      <td>NaN</td>\n",
       "      <td>Tested &amp; excluded</td>\n",
       "      <td>True</td>\n",
       "    </tr>\n",
       "    <tr>\n",
       "      <th>539047</th>\n",
       "      <td>2020-06-08</td>\n",
       "      <td>&lt;NA&gt;</td>\n",
       "      <td>NaN</td>\n",
       "      <td>NaN</td>\n",
       "      <td>&lt;NA&gt;</td>\n",
       "      <td>NaN</td>\n",
       "      <td>Tested &amp; excluded</td>\n",
       "      <td>True</td>\n",
       "    </tr>\n",
       "    <tr>\n",
       "      <th>539048</th>\n",
       "      <td>2020-06-08</td>\n",
       "      <td>&lt;NA&gt;</td>\n",
       "      <td>NaN</td>\n",
       "      <td>NaN</td>\n",
       "      <td>&lt;NA&gt;</td>\n",
       "      <td>NaN</td>\n",
       "      <td>Tested &amp; excluded</td>\n",
       "      <td>True</td>\n",
       "    </tr>\n",
       "    <tr>\n",
       "      <th>539049</th>\n",
       "      <td>2020-06-08</td>\n",
       "      <td>&lt;NA&gt;</td>\n",
       "      <td>NaN</td>\n",
       "      <td>NaN</td>\n",
       "      <td>&lt;NA&gt;</td>\n",
       "      <td>NaN</td>\n",
       "      <td>Tested &amp; excluded</td>\n",
       "      <td>True</td>\n",
       "    </tr>\n",
       "  </tbody>\n",
       "</table>\n",
       "</div>"
      ],
      "text/plain": [
       "        test_date  postcode lhd_2010_code lhd_2010_name  lga_code19  \\\n",
       "539045 2020-06-08      <NA>           NaN           NaN        <NA>   \n",
       "539046 2020-06-08      <NA>           NaN           NaN        <NA>   \n",
       "539047 2020-06-08      <NA>           NaN           NaN        <NA>   \n",
       "539048 2020-06-08      <NA>           NaN           NaN        <NA>   \n",
       "539049 2020-06-08      <NA>           NaN           NaN        <NA>   \n",
       "\n",
       "       lga_name19             result  anon  \n",
       "539045        NaN  Tested & excluded  True  \n",
       "539046        NaN  Tested & excluded  True  \n",
       "539047        NaN  Tested & excluded  True  \n",
       "539048        NaN  Tested & excluded  True  \n",
       "539049        NaN  Tested & excluded  True  "
      ]
     },
     "execution_count": 27,
     "metadata": {},
     "output_type": "execute_result"
    }
   ],
   "source": [
    "df.tail()"
   ]
  },
  {
   "cell_type": "code",
   "execution_count": 56,
   "metadata": {},
   "outputs": [
    {
     "data": {
      "text/plain": [
       "lhd_2010_name          result           \n",
       "Central Coast          Tested & excluded    23596\n",
       "                       Case - Confirmed       117\n",
       "Far West               Tested & excluded     1386\n",
       "                       Case - Confirmed         2\n",
       "Hunter New England     Tested & excluded    68244\n",
       "                       Case - Confirmed       279\n",
       "Illawarra Shoalhaven   Tested & excluded    24463\n",
       "                       Case - Confirmed       115\n",
       "Mid North Coast        Tested & excluded    11016\n",
       "                       Case - Confirmed        50\n",
       "Murrumbidgee           Tested & excluded    10300\n",
       "                       Case - Confirmed        38\n",
       "Nepean Blue Mountains  Tested & excluded    31901\n",
       "                       Case - Confirmed       178\n",
       "Network with Vic       Tested & excluded     1707\n",
       "                       Case - Confirmed         8\n",
       "Northern NSW           Tested & excluded    16302\n",
       "                       Case - Confirmed        55\n",
       "Northern Sydney        Tested & excluded    67830\n",
       "                       Case - Confirmed       536\n",
       "South Eastern Sydney   Tested & excluded    72072\n",
       "                       Case - Confirmed       686\n",
       "South Western Sydney   Tested & excluded    52215\n",
       "                       Case - Confirmed       249\n",
       "Southern NSW           Tested & excluded     9779\n",
       "                       Case - Confirmed        55\n",
       "Sydney                 Tested & excluded    54336\n",
       "                       Case - Confirmed       258\n",
       "Western NSW            Tested & excluded    12774\n",
       "                       Case - Confirmed        45\n",
       "Western Sydney         Tested & excluded    54348\n",
       "                       Case - Confirmed       302\n",
       "Name: result, dtype: int64"
      ]
     },
     "execution_count": 56,
     "metadata": {},
     "output_type": "execute_result"
    }
   ],
   "source": [
    "df.groupby('lhd_2010_name')['result'].value_counts()"
   ]
  },
  {
   "cell_type": "markdown",
   "metadata": {},
   "source": [
    "This gives us an idea of the values to expect, but we're interested in the probability. \n",
    "\n",
    "In any case, the probability is the total positive results divided by total tests, for each region. We wish to know how likely it is that the following probabilities are true."
   ]
  },
  {
   "cell_type": "code",
   "execution_count": 62,
   "metadata": {},
   "outputs": [
    {
     "name": "stdout",
     "output_type": "stream",
     "text": [
      "lhd_2010_name\n",
      "Central Coast            0.004934\n",
      "Far West                 0.001441\n",
      "Hunter New England       0.004072\n",
      "Illawarra Shoalhaven     0.004679\n",
      "Mid North Coast          0.004518\n",
      "Murrumbidgee             0.003676\n",
      "Nepean Blue Mountains    0.005549\n",
      "Network with Vic         0.004665\n",
      "Northern NSW             0.003362\n",
      "Northern Sydney          0.007840\n",
      "South Eastern Sydney     0.009429\n",
      "South Western Sydney     0.004746\n",
      "Southern NSW             0.005593\n",
      "Sydney                   0.004726\n",
      "Western NSW              0.003510\n",
      "Western Sydney           0.005526\n",
      "Name: result, dtype: float64\n"
     ]
    }
   ],
   "source": [
    "probs = df.result.eq('Case - Confirmed').groupby(df['lhd_2010_name']).mean()\n",
    "print(probs)"
   ]
  },
  {
   "cell_type": "markdown",
   "metadata": {},
   "source": [
    "We have now ascertained the probability that you will test positive in NSW based on the region that you test in. \n",
    "\n",
    "Eyeballing it, if you tested in South Eastern Sydney, you were most likely to test positive, but if you tested in Far West you were least likely to test positive. Hypothetically, this is an indication that the virus, at least as of today, has not penetrated the Far West of NSW as much as other regions *or* that the Far West of NSW has suboptimal conditions for viral spread.\n",
    "\n",
    "For each region, we assert that `n` is the total number of tests, and `p` is the probability of success in each trial. We are interested in finding the value of `n`, given `k` positive outcomes, for each region.\n",
    "\n",
    "What can we say about the probability of these probabilities?"
   ]
  },
  {
   "cell_type": "code",
   "execution_count": 65,
   "metadata": {},
   "outputs": [
    {
     "data": {
      "text/plain": [
       "<matplotlib.axes._subplots.AxesSubplot at 0x7fc3660f5370>"
      ]
     },
     "execution_count": 65,
     "metadata": {},
     "output_type": "execute_result"
    },
    {
     "data": {
      "image/png": "[encoded data removed]",
      "text/plain": [
       "<Figure size 432x288 with 1 Axes>"
      ]
     },
     "metadata": {
      "needs_background": "light"
     },
     "output_type": "display_data"
    }
   ],
   "source": [
    "sns.distplot(probs, kde=False, color='skyblue')"
   ]
  },
  {
   "cell_type": "markdown",
   "metadata": {},
   "source": [
    "Let's first take Far West, where `n` is equal to `1388` and `p` is equal to `2/1388`, or `0.001441`. Let's substitute these into our binomial function and see what it looks like."
   ]
  },
  {
   "cell_type": "code",
   "execution_count": 71,
   "metadata": {},
   "outputs": [
    {
     "data": {
      "text/plain": [
       "<matplotlib.collections.LineCollection at 0x7fc35ff89b50>"
      ]
     },
     "execution_count": 71,
     "metadata": {},
     "output_type": "execute_result"
    },
    {
     "data": {
      "image/png": "[encoded data removed]",
      "text/plain": [
       "<Figure size 432x288 with 1 Axes>"
      ]
     },
     "metadata": {
      "needs_background": "light"
     },
     "output_type": "display_data"
    }
   ],
   "source": [
    "fig, ax = plt.subplots(1,1)\n",
    "n, p = 1388, 0.001441\n",
    "mean, var, skew, kurt = binom.stats(n, p, moments='mvsk')\n",
    "x = np.arange(\n",
    "    binom.ppf(0.01, n, p),\n",
    "    binom.ppf(0.99, n, p))\n",
    "ax.plot(x, binom.pmf(x, n, p), 'bo', ms=8, label='binom pmf for far west')\n",
    "ax.vlines(x, 0, binom.pmf(x, n, p), colors='r', lw=5, alpha=.5)"
   ]
  },
  {
   "cell_type": "markdown",
   "metadata": {},
   "source": [
    "We do not have a lot of data points, but what we see is that we should expect 1 or 2 out of our total sample to test positive, which lines up with our empirical data.\n",
    "\n",
    "Let's run a quick `np.allclose` check to see if we are accurate. This function checks to see that the cumulative density function is equal to the percentage point function in element-wise order. Essentially: we construct a confidence interval and assert that it is satisfactory. If satisfactory, assert that the result is accurate."
   ]
  },
  {
   "cell_type": "code",
   "execution_count": 69,
   "metadata": {},
   "outputs": [
    {
     "data": {
      "text/plain": [
       "True"
      ]
     },
     "execution_count": 69,
     "metadata": {},
     "output_type": "execute_result"
    }
   ],
   "source": [
    "prob = binom.cdf(x, n, p)\n",
    "np.allclose(x, binom.ppf(prob, n, p))"
   ]
  },
  {
   "cell_type": "markdown",
   "metadata": {},
   "source": [
    "Success! Let's check for South Eastern Sydney, which we know has a much larger dataset..."
   ]
  },
  {
   "cell_type": "code",
   "execution_count": 72,
   "metadata": {},
   "outputs": [
    {
     "data": {
      "text/plain": [
       "<matplotlib.collections.LineCollection at 0x7fc360187400>"
      ]
     },
     "execution_count": 72,
     "metadata": {},
     "output_type": "execute_result"
    },
    {
     "data": {
      "image/png": "[encoded data removed]",
      "text/plain": [
       "<Figure size 432x288 with 1 Axes>"
      ]
     },
     "metadata": {
      "needs_background": "light"
     },
     "output_type": "display_data"
    }
   ],
   "source": [
    "fig, ax = plt.subplots(1,1)\n",
    "n, p = 72758, 0.009429\n",
    "mean, var, skew, kurt = binom.stats(n, p, moments='mvsk')\n",
    "x = np.arange(\n",
    "    binom.ppf(0.01, n, p),\n",
    "    binom.ppf(0.99, n, p))\n",
    "ax.plot(x, binom.pmf(x, n, p), 'bo', ms=8, label='binom pmf for far west')\n",
    "ax.vlines(x, 0, binom.pmf(x, n, p), colors='r', lw=5, alpha=.5)"
   ]
  },
  {
   "cell_type": "code",
   "execution_count": 73,
   "metadata": {},
   "outputs": [
    {
     "data": {
      "text/plain": [
       "True"
      ]
     },
     "execution_count": 73,
     "metadata": {},
     "output_type": "execute_result"
    }
   ],
   "source": [
    "prob = binom.cdf(x, n, p)\n",
    "np.allclose(x, binom.ppf(prob, n, p))"
   ]
  },
  {
   "cell_type": "markdown",
   "metadata": {},
   "source": [
    "Also success! And we get a much prettier graph."
   ]
  }
 ],
 "metadata": {
  "kernelspec": {
   "display_name": "Python 3",
   "language": "python",
   "name": "python3"
  },
  "language_info": {
   "codemirror_mode": {
    "name": "ipython",
    "version": 3
   },
   "file_extension": ".py",
   "mimetype": "text/x-python",
   "name": "python",
   "nbconvert_exporter": "python",
   "pygments_lexer": "ipython3",
   "version": "3.8.2"
  }
 },
 "nbformat": 4,
 "nbformat_minor": 4
}
