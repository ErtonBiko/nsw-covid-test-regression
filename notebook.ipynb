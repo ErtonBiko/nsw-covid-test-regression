{
 "cells": [
  {
   "cell_type": "markdown",
   "metadata": {},
   "source": [
    "# Proving that Greater Metro Sydney was a Coronavirus Hotspot via Binomial Regression and Bayesian inference of NSW Covid test data\n",
    "\n",
    "This notebook explores the NSW Covid 19 test data to look for patterns ... blah blah\n",
    "\n",
    "URL: https://data.nsw.gov.au/data/dataset/5424aa3b-550d-4637-ae50-7f458ce327f4/resource/227f6b65-025c-482c-9f22-a25cf1b8594f/download/covid-19-tests-by-date-and-location-and-result.csv\n",
    "\n",
    "The data are categorised by date and postcode, local health district, local government area, and result. Updated daily. Fetched on Thu 15 Oct 2020 at 5:00pm.\n",
    "\n",
    "A surge on a given day does not indicate a surge in tests for that day. Test data are updated in batches after a weekend as normal work hours commence, and also as laboratories gain new testing capacity.\n",
    "\n",
    "The NSW government provides assurances that the data are anonymised and no single person can be identified from the dataset."
   ]
  },
  {
   "cell_type": "markdown",
   "metadata": {},
   "source": [
    "## Understanding NSW districts\n",
    "\n",
    "![image of nsw regional districts](files/nsw.jpg)\n",
    "\n",
    "The above shows all the regional districts of NSW as they appear in a geographic space.\n",
    "\n",
    "![image of nsw metro districts](files/metro.jpg)\n",
    "\n",
    "The above shows the Metropolitan districts of NSW.\n",
    "\n",
    "What we learn from this is that places like South Eastern Sydney, Sydney, and Northern Sydney are the closest to the airport, whereas regional NSW is far away from population centres.\n",
    "\n",
    "According to https://profile.id.com.au the following is true about regional vs. metro NSW:\n",
    "\n",
    "- The 2019 Estimated Resident Population for Regional NSW is 2,777,654, with a population density of 0.04 persons per hectare.\n",
    "- The 2019 Estimated Resident Population for Greater Sydney is 5,312,163, with a population density of 4.29 persons per hectare.\n",
    "\n",
    "Woah, that's a pretty big difference!\n",
    "\n",
    "We hypothesise that given metro NSW has a higher population density, and its closeness to the airport, there will be a higher positive test rate when compared to regional NSW. We don't know whether positive test rate is directly related to population density, so we do not expect a 100-fold difference exactly.\n",
    "\n",
    "In order to prove this, we will compare Far West NSW, the Nepean Blue Mountains, and South Eastern Sydney. We'll first assess the binomial distribution to validate positive test cases, and then we'll use naive Bayes algorithms to determine which region a positive test will most likely originate from.\n",
    "\n",
    "First, it's time to load in our data."
   ]
  },
  {
   "cell_type": "code",
   "execution_count": 1,
   "metadata": {},
   "outputs": [],
   "source": [
    "# load the relevant libraries\n",
    "import pandas as pd\n",
    "import numpy as np\n",
    "import seaborn as sns\n",
    "from scipy.stats import binom\n",
    "import matplotlib.pyplot as plt\n",
    "from statistics import median\n",
    "from math import factorial\n",
    "from statistics import mean\n",
    "def n_choose_m(n, m):\n",
    "    return factorial(n)/(factorial(n-m)*factorial(m))"
   ]
  },
  {
   "cell_type": "code",
   "execution_count": 2,
   "metadata": {},
   "outputs": [
    {
     "name": "stdout",
     "output_type": "stream",
     "text": [
      "{nan, 'Far West', 'South Eastern Sydney', 'Illawarra Shoalhaven', 'Western NSW', 'Northern Sydney', 'Northern NSW', 'Murrumbidgee', 'Network with Vic', 'Sydney', 'Central Coast', 'Southern NSW', 'South Western Sydney', 'Nepean Blue Mountains', 'Hunter New England', 'Western Sydney', 'Mid North Coast'}\n"
     ]
    }
   ],
   "source": [
    "# load in the dataset\n",
    "# make relevant adjustments to the datatype after inspecting in excel\n",
    "df = pd.read_csv(\n",
    "    'covid-19-tests-by-date-and-location-and-result.csv',\n",
    "    #dtype={'postcode': 'Int64', 'lga_code19': 'Int64'},\n",
    "    parse_dates=['test_date']\n",
    ")\n",
    "df[['postcode', 'lga_code19']] = df[['postcode', 'lga_code19']].fillna(0)\n",
    "df[['postcode', 'lga_code19']] = df[['postcode', 'lga_code19']].apply(pd.to_numeric, downcast='integer')\n",
    "\n",
    "print(set(df.lhd_2010_name))"
   ]
  },
  {
   "cell_type": "code",
   "execution_count": 3,
   "metadata": {},
   "outputs": [],
   "source": [
    "df['region'] = df.lhd_2010_name.fillna('').apply(lambda x: 'regional' if x in [\n",
    "    'Murrumbidgee', 'Far West', 'Western NSW', 'Hunter New England',\n",
    "    'Northern NSW', 'Mid North Coast', 'Illawarra Shoalhaven', 'Southern NSW',\n",
    "    'Network with Vic'\n",
    "] else 'metro' if x != '' else np.nan)"
   ]
  },
  {
   "cell_type": "code",
   "execution_count": 4,
   "metadata": {},
   "outputs": [
    {
     "data": {
      "text/html": [
       "<div>\n",
       "<style scoped>\n",
       "    .dataframe tbody tr th:only-of-type {\n",
       "        vertical-align: middle;\n",
       "    }\n",
       "\n",
       "    .dataframe tbody tr th {\n",
       "        vertical-align: top;\n",
       "    }\n",
       "\n",
       "    .dataframe thead th {\n",
       "        text-align: right;\n",
       "    }\n",
       "</style>\n",
       "<table border=\"1\" class=\"dataframe\">\n",
       "  <thead>\n",
       "    <tr style=\"text-align: right;\">\n",
       "      <th></th>\n",
       "      <th>test_date</th>\n",
       "      <th>postcode</th>\n",
       "      <th>lhd_2010_code</th>\n",
       "      <th>lhd_2010_name</th>\n",
       "      <th>lga_code19</th>\n",
       "      <th>lga_name19</th>\n",
       "      <th>result</th>\n",
       "      <th>region</th>\n",
       "    </tr>\n",
       "  </thead>\n",
       "  <tbody>\n",
       "    <tr>\n",
       "      <th>0</th>\n",
       "      <td>2020-01-01</td>\n",
       "      <td>2039</td>\n",
       "      <td>X700</td>\n",
       "      <td>Sydney</td>\n",
       "      <td>14170</td>\n",
       "      <td>Inner West (A)</td>\n",
       "      <td>Tested &amp; excluded</td>\n",
       "      <td>metro</td>\n",
       "    </tr>\n",
       "    <tr>\n",
       "      <th>1</th>\n",
       "      <td>2020-01-01</td>\n",
       "      <td>2040</td>\n",
       "      <td>X700</td>\n",
       "      <td>Sydney</td>\n",
       "      <td>14170</td>\n",
       "      <td>Inner West (A)</td>\n",
       "      <td>Tested &amp; excluded</td>\n",
       "      <td>metro</td>\n",
       "    </tr>\n",
       "    <tr>\n",
       "      <th>2</th>\n",
       "      <td>2020-01-01</td>\n",
       "      <td>2069</td>\n",
       "      <td>X760</td>\n",
       "      <td>Northern Sydney</td>\n",
       "      <td>14500</td>\n",
       "      <td>Ku-ring-gai (A)</td>\n",
       "      <td>Tested &amp; excluded</td>\n",
       "      <td>metro</td>\n",
       "    </tr>\n",
       "    <tr>\n",
       "      <th>3</th>\n",
       "      <td>2020-01-01</td>\n",
       "      <td>2110</td>\n",
       "      <td>X760</td>\n",
       "      <td>Northern Sydney</td>\n",
       "      <td>14100</td>\n",
       "      <td>Hunters Hill (A)</td>\n",
       "      <td>Tested &amp; excluded</td>\n",
       "      <td>metro</td>\n",
       "    </tr>\n",
       "    <tr>\n",
       "      <th>4</th>\n",
       "      <td>2020-01-01</td>\n",
       "      <td>2190</td>\n",
       "      <td>X710</td>\n",
       "      <td>South Western Sydney</td>\n",
       "      <td>11570</td>\n",
       "      <td>Canterbury-Bankstown (A)</td>\n",
       "      <td>Tested &amp; excluded</td>\n",
       "      <td>metro</td>\n",
       "    </tr>\n",
       "  </tbody>\n",
       "</table>\n",
       "</div>"
      ],
      "text/plain": [
       "   test_date  postcode lhd_2010_code         lhd_2010_name  lga_code19  \\\n",
       "0 2020-01-01      2039          X700                Sydney       14170   \n",
       "1 2020-01-01      2040          X700                Sydney       14170   \n",
       "2 2020-01-01      2069          X760       Northern Sydney       14500   \n",
       "3 2020-01-01      2110          X760       Northern Sydney       14100   \n",
       "4 2020-01-01      2190          X710  South Western Sydney       11570   \n",
       "\n",
       "                 lga_name19             result region  \n",
       "0            Inner West (A)  Tested & excluded  metro  \n",
       "1            Inner West (A)  Tested & excluded  metro  \n",
       "2           Ku-ring-gai (A)  Tested & excluded  metro  \n",
       "3          Hunters Hill (A)  Tested & excluded  metro  \n",
       "4  Canterbury-Bankstown (A)  Tested & excluded  metro  "
      ]
     },
     "execution_count": 4,
     "metadata": {},
     "output_type": "execute_result"
    }
   ],
   "source": [
    "# inspect the data visually\n",
    "df.head()"
   ]
  },
  {
   "cell_type": "code",
   "execution_count": 5,
   "metadata": {},
   "outputs": [
    {
     "data": {
      "text/html": [
       "<div>\n",
       "<style scoped>\n",
       "    .dataframe tbody tr th:only-of-type {\n",
       "        vertical-align: middle;\n",
       "    }\n",
       "\n",
       "    .dataframe tbody tr th {\n",
       "        vertical-align: top;\n",
       "    }\n",
       "\n",
       "    .dataframe thead th {\n",
       "        text-align: right;\n",
       "    }\n",
       "</style>\n",
       "<table border=\"1\" class=\"dataframe\">\n",
       "  <thead>\n",
       "    <tr style=\"text-align: right;\">\n",
       "      <th></th>\n",
       "      <th>test_date</th>\n",
       "      <th>postcode</th>\n",
       "      <th>lhd_2010_code</th>\n",
       "      <th>lhd_2010_name</th>\n",
       "      <th>lga_code19</th>\n",
       "      <th>lga_name19</th>\n",
       "      <th>result</th>\n",
       "      <th>region</th>\n",
       "    </tr>\n",
       "  </thead>\n",
       "  <tbody>\n",
       "    <tr>\n",
       "      <th>539045</th>\n",
       "      <td>2020-06-08</td>\n",
       "      <td>0</td>\n",
       "      <td>NaN</td>\n",
       "      <td>NaN</td>\n",
       "      <td>0</td>\n",
       "      <td>NaN</td>\n",
       "      <td>Tested &amp; excluded</td>\n",
       "      <td>NaN</td>\n",
       "    </tr>\n",
       "    <tr>\n",
       "      <th>539046</th>\n",
       "      <td>2020-06-08</td>\n",
       "      <td>0</td>\n",
       "      <td>NaN</td>\n",
       "      <td>NaN</td>\n",
       "      <td>0</td>\n",
       "      <td>NaN</td>\n",
       "      <td>Tested &amp; excluded</td>\n",
       "      <td>NaN</td>\n",
       "    </tr>\n",
       "    <tr>\n",
       "      <th>539047</th>\n",
       "      <td>2020-06-08</td>\n",
       "      <td>0</td>\n",
       "      <td>NaN</td>\n",
       "      <td>NaN</td>\n",
       "      <td>0</td>\n",
       "      <td>NaN</td>\n",
       "      <td>Tested &amp; excluded</td>\n",
       "      <td>NaN</td>\n",
       "    </tr>\n",
       "    <tr>\n",
       "      <th>539048</th>\n",
       "      <td>2020-06-08</td>\n",
       "      <td>0</td>\n",
       "      <td>NaN</td>\n",
       "      <td>NaN</td>\n",
       "      <td>0</td>\n",
       "      <td>NaN</td>\n",
       "      <td>Tested &amp; excluded</td>\n",
       "      <td>NaN</td>\n",
       "    </tr>\n",
       "    <tr>\n",
       "      <th>539049</th>\n",
       "      <td>2020-06-08</td>\n",
       "      <td>0</td>\n",
       "      <td>NaN</td>\n",
       "      <td>NaN</td>\n",
       "      <td>0</td>\n",
       "      <td>NaN</td>\n",
       "      <td>Tested &amp; excluded</td>\n",
       "      <td>NaN</td>\n",
       "    </tr>\n",
       "  </tbody>\n",
       "</table>\n",
       "</div>"
      ],
      "text/plain": [
       "        test_date  postcode lhd_2010_code lhd_2010_name  lga_code19  \\\n",
       "539045 2020-06-08         0           NaN           NaN           0   \n",
       "539046 2020-06-08         0           NaN           NaN           0   \n",
       "539047 2020-06-08         0           NaN           NaN           0   \n",
       "539048 2020-06-08         0           NaN           NaN           0   \n",
       "539049 2020-06-08         0           NaN           NaN           0   \n",
       "\n",
       "       lga_name19             result region  \n",
       "539045        NaN  Tested & excluded    NaN  \n",
       "539046        NaN  Tested & excluded    NaN  \n",
       "539047        NaN  Tested & excluded    NaN  \n",
       "539048        NaN  Tested & excluded    NaN  \n",
       "539049        NaN  Tested & excluded    NaN  "
      ]
     },
     "execution_count": 5,
     "metadata": {},
     "output_type": "execute_result"
    }
   ],
   "source": [
    "df.tail()"
   ]
  },
  {
   "cell_type": "markdown",
   "metadata": {},
   "source": [
    "The data appear normal, but it looks like there are sections where the data are completely anonymised. In this case we will assign a new flag in a new column: `anon`.\n",
    "\n",
    "Note that anonymised data are not people choosing to remain anonymous; rather this is a technique known as differential privacy."
   ]
  },
  {
   "cell_type": "code",
   "execution_count": 6,
   "metadata": {},
   "outputs": [],
   "source": [
    "df['anon'] = np.where(df.postcode == 0, True, False)"
   ]
  },
  {
   "cell_type": "code",
   "execution_count": 7,
   "metadata": {},
   "outputs": [
    {
     "data": {
      "text/html": [
       "<div>\n",
       "<style scoped>\n",
       "    .dataframe tbody tr th:only-of-type {\n",
       "        vertical-align: middle;\n",
       "    }\n",
       "\n",
       "    .dataframe tbody tr th {\n",
       "        vertical-align: top;\n",
       "    }\n",
       "\n",
       "    .dataframe thead th {\n",
       "        text-align: right;\n",
       "    }\n",
       "</style>\n",
       "<table border=\"1\" class=\"dataframe\">\n",
       "  <thead>\n",
       "    <tr style=\"text-align: right;\">\n",
       "      <th></th>\n",
       "      <th>test_date</th>\n",
       "      <th>postcode</th>\n",
       "      <th>lhd_2010_code</th>\n",
       "      <th>lhd_2010_name</th>\n",
       "      <th>lga_code19</th>\n",
       "      <th>lga_name19</th>\n",
       "      <th>result</th>\n",
       "      <th>region</th>\n",
       "      <th>anon</th>\n",
       "    </tr>\n",
       "  </thead>\n",
       "  <tbody>\n",
       "    <tr>\n",
       "      <th>0</th>\n",
       "      <td>2020-01-01</td>\n",
       "      <td>2039</td>\n",
       "      <td>X700</td>\n",
       "      <td>Sydney</td>\n",
       "      <td>14170</td>\n",
       "      <td>Inner West (A)</td>\n",
       "      <td>Tested &amp; excluded</td>\n",
       "      <td>metro</td>\n",
       "      <td>False</td>\n",
       "    </tr>\n",
       "    <tr>\n",
       "      <th>1</th>\n",
       "      <td>2020-01-01</td>\n",
       "      <td>2040</td>\n",
       "      <td>X700</td>\n",
       "      <td>Sydney</td>\n",
       "      <td>14170</td>\n",
       "      <td>Inner West (A)</td>\n",
       "      <td>Tested &amp; excluded</td>\n",
       "      <td>metro</td>\n",
       "      <td>False</td>\n",
       "    </tr>\n",
       "    <tr>\n",
       "      <th>2</th>\n",
       "      <td>2020-01-01</td>\n",
       "      <td>2069</td>\n",
       "      <td>X760</td>\n",
       "      <td>Northern Sydney</td>\n",
       "      <td>14500</td>\n",
       "      <td>Ku-ring-gai (A)</td>\n",
       "      <td>Tested &amp; excluded</td>\n",
       "      <td>metro</td>\n",
       "      <td>False</td>\n",
       "    </tr>\n",
       "    <tr>\n",
       "      <th>3</th>\n",
       "      <td>2020-01-01</td>\n",
       "      <td>2110</td>\n",
       "      <td>X760</td>\n",
       "      <td>Northern Sydney</td>\n",
       "      <td>14100</td>\n",
       "      <td>Hunters Hill (A)</td>\n",
       "      <td>Tested &amp; excluded</td>\n",
       "      <td>metro</td>\n",
       "      <td>False</td>\n",
       "    </tr>\n",
       "    <tr>\n",
       "      <th>4</th>\n",
       "      <td>2020-01-01</td>\n",
       "      <td>2190</td>\n",
       "      <td>X710</td>\n",
       "      <td>South Western Sydney</td>\n",
       "      <td>11570</td>\n",
       "      <td>Canterbury-Bankstown (A)</td>\n",
       "      <td>Tested &amp; excluded</td>\n",
       "      <td>metro</td>\n",
       "      <td>False</td>\n",
       "    </tr>\n",
       "  </tbody>\n",
       "</table>\n",
       "</div>"
      ],
      "text/plain": [
       "   test_date  postcode lhd_2010_code         lhd_2010_name  lga_code19  \\\n",
       "0 2020-01-01      2039          X700                Sydney       14170   \n",
       "1 2020-01-01      2040          X700                Sydney       14170   \n",
       "2 2020-01-01      2069          X760       Northern Sydney       14500   \n",
       "3 2020-01-01      2110          X760       Northern Sydney       14100   \n",
       "4 2020-01-01      2190          X710  South Western Sydney       11570   \n",
       "\n",
       "                 lga_name19             result region   anon  \n",
       "0            Inner West (A)  Tested & excluded  metro  False  \n",
       "1            Inner West (A)  Tested & excluded  metro  False  \n",
       "2           Ku-ring-gai (A)  Tested & excluded  metro  False  \n",
       "3          Hunters Hill (A)  Tested & excluded  metro  False  \n",
       "4  Canterbury-Bankstown (A)  Tested & excluded  metro  False  "
      ]
     },
     "execution_count": 7,
     "metadata": {},
     "output_type": "execute_result"
    }
   ],
   "source": [
    "df.head()"
   ]
  },
  {
   "cell_type": "code",
   "execution_count": 8,
   "metadata": {},
   "outputs": [
    {
     "data": {
      "text/html": [
       "<div>\n",
       "<style scoped>\n",
       "    .dataframe tbody tr th:only-of-type {\n",
       "        vertical-align: middle;\n",
       "    }\n",
       "\n",
       "    .dataframe tbody tr th {\n",
       "        vertical-align: top;\n",
       "    }\n",
       "\n",
       "    .dataframe thead th {\n",
       "        text-align: right;\n",
       "    }\n",
       "</style>\n",
       "<table border=\"1\" class=\"dataframe\">\n",
       "  <thead>\n",
       "    <tr style=\"text-align: right;\">\n",
       "      <th></th>\n",
       "      <th>test_date</th>\n",
       "      <th>postcode</th>\n",
       "      <th>lhd_2010_code</th>\n",
       "      <th>lhd_2010_name</th>\n",
       "      <th>lga_code19</th>\n",
       "      <th>lga_name19</th>\n",
       "      <th>result</th>\n",
       "      <th>region</th>\n",
       "      <th>anon</th>\n",
       "    </tr>\n",
       "  </thead>\n",
       "  <tbody>\n",
       "    <tr>\n",
       "      <th>539045</th>\n",
       "      <td>2020-06-08</td>\n",
       "      <td>0</td>\n",
       "      <td>NaN</td>\n",
       "      <td>NaN</td>\n",
       "      <td>0</td>\n",
       "      <td>NaN</td>\n",
       "      <td>Tested &amp; excluded</td>\n",
       "      <td>NaN</td>\n",
       "      <td>True</td>\n",
       "    </tr>\n",
       "    <tr>\n",
       "      <th>539046</th>\n",
       "      <td>2020-06-08</td>\n",
       "      <td>0</td>\n",
       "      <td>NaN</td>\n",
       "      <td>NaN</td>\n",
       "      <td>0</td>\n",
       "      <td>NaN</td>\n",
       "      <td>Tested &amp; excluded</td>\n",
       "      <td>NaN</td>\n",
       "      <td>True</td>\n",
       "    </tr>\n",
       "    <tr>\n",
       "      <th>539047</th>\n",
       "      <td>2020-06-08</td>\n",
       "      <td>0</td>\n",
       "      <td>NaN</td>\n",
       "      <td>NaN</td>\n",
       "      <td>0</td>\n",
       "      <td>NaN</td>\n",
       "      <td>Tested &amp; excluded</td>\n",
       "      <td>NaN</td>\n",
       "      <td>True</td>\n",
       "    </tr>\n",
       "    <tr>\n",
       "      <th>539048</th>\n",
       "      <td>2020-06-08</td>\n",
       "      <td>0</td>\n",
       "      <td>NaN</td>\n",
       "      <td>NaN</td>\n",
       "      <td>0</td>\n",
       "      <td>NaN</td>\n",
       "      <td>Tested &amp; excluded</td>\n",
       "      <td>NaN</td>\n",
       "      <td>True</td>\n",
       "    </tr>\n",
       "    <tr>\n",
       "      <th>539049</th>\n",
       "      <td>2020-06-08</td>\n",
       "      <td>0</td>\n",
       "      <td>NaN</td>\n",
       "      <td>NaN</td>\n",
       "      <td>0</td>\n",
       "      <td>NaN</td>\n",
       "      <td>Tested &amp; excluded</td>\n",
       "      <td>NaN</td>\n",
       "      <td>True</td>\n",
       "    </tr>\n",
       "  </tbody>\n",
       "</table>\n",
       "</div>"
      ],
      "text/plain": [
       "        test_date  postcode lhd_2010_code lhd_2010_name  lga_code19  \\\n",
       "539045 2020-06-08         0           NaN           NaN           0   \n",
       "539046 2020-06-08         0           NaN           NaN           0   \n",
       "539047 2020-06-08         0           NaN           NaN           0   \n",
       "539048 2020-06-08         0           NaN           NaN           0   \n",
       "539049 2020-06-08         0           NaN           NaN           0   \n",
       "\n",
       "       lga_name19             result region  anon  \n",
       "539045        NaN  Tested & excluded    NaN  True  \n",
       "539046        NaN  Tested & excluded    NaN  True  \n",
       "539047        NaN  Tested & excluded    NaN  True  \n",
       "539048        NaN  Tested & excluded    NaN  True  \n",
       "539049        NaN  Tested & excluded    NaN  True  "
      ]
     },
     "execution_count": 8,
     "metadata": {},
     "output_type": "execute_result"
    }
   ],
   "source": [
    "df.tail()"
   ]
  },
  {
   "cell_type": "markdown",
   "metadata": {},
   "source": [
    "## The binomial distribution\n",
    "\n",
    "Current knowledge is that Melbourne and Sydney have had the most positive confirmed cases. We will find the probability of whether a person is likely to test positive based on the region in which they live in NSW, then use the binomial distribution to determine the likelihood that probability is indicative of the realworld; i.e. true.\n",
    "\n",
    "We do this because we need to ensure that the testing methodology is accurate before we can make any inferences from Bayes' theorem."
   ]
  },
  {
   "cell_type": "code",
   "execution_count": 9,
   "metadata": {},
   "outputs": [
    {
     "data": {
      "text/plain": [
       "lhd_2010_name          result           \n",
       "Central Coast          Tested & excluded    23596\n",
       "                       Case - Confirmed       117\n",
       "Far West               Tested & excluded     1386\n",
       "                       Case - Confirmed         2\n",
       "Hunter New England     Tested & excluded    68244\n",
       "                       Case - Confirmed       279\n",
       "Illawarra Shoalhaven   Tested & excluded    24463\n",
       "                       Case - Confirmed       115\n",
       "Mid North Coast        Tested & excluded    11016\n",
       "                       Case - Confirmed        50\n",
       "Murrumbidgee           Tested & excluded    10300\n",
       "                       Case - Confirmed        38\n",
       "Nepean Blue Mountains  Tested & excluded    31901\n",
       "                       Case - Confirmed       178\n",
       "Network with Vic       Tested & excluded     1707\n",
       "                       Case - Confirmed         8\n",
       "Northern NSW           Tested & excluded    16302\n",
       "                       Case - Confirmed        55\n",
       "Northern Sydney        Tested & excluded    67830\n",
       "                       Case - Confirmed       536\n",
       "South Eastern Sydney   Tested & excluded    72072\n",
       "                       Case - Confirmed       686\n",
       "South Western Sydney   Tested & excluded    52215\n",
       "                       Case - Confirmed       249\n",
       "Southern NSW           Tested & excluded     9779\n",
       "                       Case - Confirmed        55\n",
       "Sydney                 Tested & excluded    54336\n",
       "                       Case - Confirmed       258\n",
       "Western NSW            Tested & excluded    12774\n",
       "                       Case - Confirmed        45\n",
       "Western Sydney         Tested & excluded    54348\n",
       "                       Case - Confirmed       302\n",
       "Name: result, dtype: int64"
      ]
     },
     "execution_count": 9,
     "metadata": {},
     "output_type": "execute_result"
    }
   ],
   "source": [
    "df.groupby('lhd_2010_name')['result'].value_counts()"
   ]
  },
  {
   "cell_type": "code",
   "execution_count": 10,
   "metadata": {},
   "outputs": [
    {
     "data": {
      "text/plain": [
       "region    result           \n",
       "metro     Tested & excluded    356298\n",
       "          Case - Confirmed       2326\n",
       "regional  Tested & excluded    155971\n",
       "          Case - Confirmed        647\n",
       "Name: result, dtype: int64"
      ]
     },
     "execution_count": 10,
     "metadata": {},
     "output_type": "execute_result"
    }
   ],
   "source": [
    "df.groupby('region')['result'].value_counts()"
   ]
  },
  {
   "cell_type": "markdown",
   "metadata": {},
   "source": [
    "This gives us an idea of the values to expect, but we're interested in the probability. \n",
    "\n",
    "In any case, the probability is the total positive results divided by total tests, for each region. We wish to know how likely it is that the following probabilities are true.\n",
    "\n",
    "We'll compute this for our three selected sample regions, and then the aggregate regions (metro & regional)."
   ]
  },
  {
   "cell_type": "code",
   "execution_count": 11,
   "metadata": {},
   "outputs": [
    {
     "name": "stdout",
     "output_type": "stream",
     "text": [
      "lhd_2010_name\n",
      "Central Coast            0.004934\n",
      "Far West                 0.001441\n",
      "Hunter New England       0.004072\n",
      "Illawarra Shoalhaven     0.004679\n",
      "Mid North Coast          0.004518\n",
      "Murrumbidgee             0.003676\n",
      "Nepean Blue Mountains    0.005549\n",
      "Network with Vic         0.004665\n",
      "Northern NSW             0.003362\n",
      "Northern Sydney          0.007840\n",
      "South Eastern Sydney     0.009429\n",
      "South Western Sydney     0.004746\n",
      "Southern NSW             0.005593\n",
      "Sydney                   0.004726\n",
      "Western NSW              0.003510\n",
      "Western Sydney           0.005526\n",
      "Name: result, dtype: float64\n"
     ]
    }
   ],
   "source": [
    "probs = df.result.eq('Case - Confirmed').groupby(df['lhd_2010_name']).mean()\n",
    "print(probs)"
   ]
  },
  {
   "cell_type": "code",
   "execution_count": 12,
   "metadata": {},
   "outputs": [
    {
     "name": "stdout",
     "output_type": "stream",
     "text": [
      "region\n",
      "metro       0.006486\n",
      "regional    0.004131\n",
      "Name: result, dtype: float64\n"
     ]
    }
   ],
   "source": [
    "probs = df.result.eq('Case - Confirmed').groupby(df['region']).mean()\n",
    "print(probs)"
   ]
  },
  {
   "cell_type": "markdown",
   "metadata": {},
   "source": [
    "We have now ascertained the probability that you will test positive in NSW based on the region that you test in. \n",
    "\n",
    "Eyeballing it, if you tested in South Eastern Sydney, you were most likely to test positive, but if you tested in Far West you were least likely to test positive. Hypothetically, this is an indication that the virus, at least as of today, has not penetrated the Far West of NSW as much as other regions *or* that the Far West of NSW has suboptimal conditions for viral spread.\n",
    "\n",
    "For each region, we assert that `n` is the total number of tests, and `p` is the probability of success in each trial. We are interested in finding the value of `n`, given `k` positive outcomes, for each region.\n",
    "\n",
    "What can we say about the probability of these probabilities?"
   ]
  },
  {
   "cell_type": "code",
   "execution_count": 13,
   "metadata": {},
   "outputs": [
    {
     "name": "stderr",
     "output_type": "stream",
     "text": [
      "C:\\ProgramData\\Anaconda3\\lib\\site-packages\\scipy\\stats\\stats.py:1713: FutureWarning: Using a non-tuple sequence for multidimensional indexing is deprecated; use `arr[tuple(seq)]` instead of `arr[seq]`. In the future this will be interpreted as an array index, `arr[np.array(seq)]`, which will result either in an error or a different result.\n",
      "  return np.add.reduce(sorted[indexer] * weights, axis=axis) / sumval\n"
     ]
    },
    {
     "data": {
      "text/plain": [
       "<matplotlib.axes._subplots.AxesSubplot at 0x148c3e57c88>"
      ]
     },
     "execution_count": 13,
     "metadata": {},
     "output_type": "execute_result"
    },
    {
     "data": {
      "image/png": "[encoded data removed]",
      "text/plain": [
       "<Figure size 432x288 with 1 Axes>"
      ]
     },
     "metadata": {
      "needs_background": "light"
     },
     "output_type": "display_data"
    }
   ],
   "source": [
    "sns.distplot(probs, kde=False, color='skyblue')"
   ]
  },
  {
   "cell_type": "markdown",
   "metadata": {},
   "source": [
    "Let's first take Far West, where `n` is equal to `1388` and `p` is equal to `2/1388`, or `0.001441`. Let's substitute these into our binomial function and see what it looks like."
   ]
  },
  {
   "cell_type": "code",
   "execution_count": 14,
   "metadata": {},
   "outputs": [
    {
     "data": {
      "text/plain": [
       "<matplotlib.collections.LineCollection at 0x148c3dc7cf8>"
      ]
     },
     "execution_count": 14,
     "metadata": {},
     "output_type": "execute_result"
    },
    {
     "data": {
      "image/png": "[encoded data removed]",
      "text/plain": [
       "<Figure size 432x288 with 1 Axes>"
      ]
     },
     "metadata": {
      "needs_background": "light"
     },
     "output_type": "display_data"
    }
   ],
   "source": [
    "fig, ax = plt.subplots(1,1)\n",
    "n, p = 1388, 0.001441\n",
    "mean, var, skew, kurt = binom.stats(n, p, moments='mvsk')\n",
    "x = np.arange(\n",
    "    binom.ppf(0.01, n, p),\n",
    "    binom.ppf(0.99, n, p))\n",
    "ax.plot(x, binom.pmf(x, n, p), 'bo', ms=8, label='binom pmf for far west')\n",
    "ax.vlines(x, 0, binom.pmf(x, n, p), colors='r', lw=5, alpha=.5)"
   ]
  },
  {
   "cell_type": "markdown",
   "metadata": {},
   "source": [
    "We do not have a lot of data points, but what we see is that we should expect 1 or 2 out of our total sample to test positive, which lines up with our empirical data.\n",
    "\n",
    "Let's run a quick `np.allclose` check to see if we are accurate. This function checks to see that the cumulative density function is equal to the percentage point function in element-wise order. Essentially: we construct a confidence interval and assert that it is satisfactory. If satisfactory, assert that the result is accurate."
   ]
  },
  {
   "cell_type": "code",
   "execution_count": 15,
   "metadata": {},
   "outputs": [
    {
     "data": {
      "text/plain": [
       "True"
      ]
     },
     "execution_count": 15,
     "metadata": {},
     "output_type": "execute_result"
    }
   ],
   "source": [
    "prob = binom.cdf(x, n, p)\n",
    "np.allclose(x, binom.ppf(prob, n, p))"
   ]
  },
  {
   "cell_type": "code",
   "execution_count": 16,
   "metadata": {},
   "outputs": [
    {
     "name": "stdout",
     "output_type": "stream",
     "text": [
      "median: 2.5\n",
      "discrete probability: 0.2708657608253548\n"
     ]
    }
   ],
   "source": [
    "print('median:', median(x))\n",
    "print('discrete probability:', max(binom.pmf(x, n, p)))"
   ]
  },
  {
   "cell_type": "markdown",
   "metadata": {},
   "source": [
    "Success! There is a 27% chance that 2.5 people will test positive, which is very close to our real world results of 2 positive tests.\n",
    "\n",
    "We'll use a mathematical prove just to demonstrate that the function above is doing what we expect.\n",
    "\n",
    "Recall the binomial function:\n",
    "\n",
    "\\begin{equation*}\n",
    "P(E)   = {n \\choose k} p^k (1-p)^{ n-k}\n",
    "\\end{equation*}\n",
    "\n",
    "Substituting in our values:\n",
    "\n",
    "\\begin{equation*}\n",
    "P(E)   = {1388 \\choose 2} 0.001441^2 (1-0.001441)^{ 1388-2}\n",
    "\\end{equation*}\n",
    "\n",
    "Thus manually calculating this results in:\n",
    "\n",
    "\\begin{equation*}\n",
    "P(E)   = 962578 \\cdot 2.076481e^{-06} \\times 0.1355158 = 0.27086\n",
    "\\end{equation*}\n",
    "\n",
    "Let's check for South Eastern Sydney, which we know has a much larger dataset..."
   ]
  },
  {
   "cell_type": "code",
   "execution_count": 17,
   "metadata": {},
   "outputs": [
    {
     "data": {
      "text/plain": [
       "<matplotlib.collections.LineCollection at 0x148c3e372e8>"
      ]
     },
     "execution_count": 17,
     "metadata": {},
     "output_type": "execute_result"
    },
    {
     "data": {
      "image/png": "[encoded data removed]",
      "text/plain": [
       "<Figure size 432x288 with 1 Axes>"
      ]
     },
     "metadata": {
      "needs_background": "light"
     },
     "output_type": "display_data"
    }
   ],
   "source": [
    "fig, ax = plt.subplots(1,1)\n",
    "n, p = 72758, 0.009429\n",
    "mean, var, skew, kurt = binom.stats(n, p, moments='mvsk')\n",
    "x = np.arange(\n",
    "    binom.ppf(0.01, n, p),\n",
    "    binom.ppf(0.99, n, p))\n",
    "ax.plot(x, binom.pmf(x, n, p), 'bo', ms=8, label='binom pmf for far west')\n",
    "ax.vlines(x, 0, binom.pmf(x, n, p), colors='r', lw=5, alpha=.5)"
   ]
  },
  {
   "cell_type": "code",
   "execution_count": 18,
   "metadata": {},
   "outputs": [
    {
     "data": {
      "text/plain": [
       "True"
      ]
     },
     "execution_count": 18,
     "metadata": {},
     "output_type": "execute_result"
    }
   ],
   "source": [
    "prob = binom.cdf(x, n, p)\n",
    "np.allclose(x, binom.ppf(prob, n, p))"
   ]
  },
  {
   "cell_type": "code",
   "execution_count": 19,
   "metadata": {},
   "outputs": [
    {
     "name": "stdout",
     "output_type": "stream",
     "text": [
      "median: 686.0\n",
      "discrete probability: 0.015302131865897095\n"
     ]
    }
   ],
   "source": [
    "print('median:', median(x))\n",
    "print('discrete probability:', max(binom.pmf(x, n, p)))"
   ]
  },
  {
   "cell_type": "markdown",
   "metadata": {},
   "source": [
    "Also success! And we get a much prettier graph.\n",
    "\n",
    "We know that 686 positive tests were recorded in the real world for GES, so this is promising. Though the probability is smaller, since there is a much larger number of tests.\n",
    "\n",
    "Still, we can be confident this is accurate."
   ]
  },
  {
   "cell_type": "markdown",
   "metadata": {},
   "source": [
    "Last, let's check for the Nepean Blue Mountains."
   ]
  },
  {
   "cell_type": "code",
   "execution_count": 20,
   "metadata": {},
   "outputs": [
    {
     "data": {
      "text/plain": [
       "<matplotlib.collections.LineCollection at 0x148c3f27ef0>"
      ]
     },
     "execution_count": 20,
     "metadata": {},
     "output_type": "execute_result"
    },
    {
     "data": {
      "image/png": "[encoded data removed]",
      "text/plain": [
       "<Figure size 432x288 with 1 Axes>"
      ]
     },
     "metadata": {
      "needs_background": "light"
     },
     "output_type": "display_data"
    }
   ],
   "source": [
    "fig, ax = plt.subplots(1,1)\n",
    "n, p = 31901+178, 0.005549\n",
    "mean, var, skew, kurt = binom.stats(n, p, moments='mvsk')\n",
    "x = np.arange(\n",
    "    binom.ppf(0.01, n, p),\n",
    "    binom.ppf(0.99, n, p))\n",
    "ax.plot(x, binom.pmf(x, n, p), 'bo', ms=8, label='binom pmf for far west')\n",
    "ax.vlines(x, 0, binom.pmf(x, n, p), colors='r', lw=5, alpha=.5)"
   ]
  },
  {
   "cell_type": "code",
   "execution_count": 21,
   "metadata": {},
   "outputs": [
    {
     "data": {
      "text/plain": [
       "True"
      ]
     },
     "execution_count": 21,
     "metadata": {},
     "output_type": "execute_result"
    }
   ],
   "source": [
    "prob = binom.cdf(x, n, p)\n",
    "np.allclose(x, binom.ppf(prob, n, p))"
   ]
  },
  {
   "cell_type": "code",
   "execution_count": 22,
   "metadata": {},
   "outputs": [
    {
     "name": "stdout",
     "output_type": "stream",
     "text": [
      "median: 178.5\n",
      "discrete probability: 0.029971256440868704\n"
     ]
    }
   ],
   "source": [
    "print('median:', median(x))\n",
    "print('discrete probability:', max(binom.pmf(x, n, p)))"
   ]
  },
  {
   "cell_type": "markdown",
   "metadata": {},
   "source": [
    "Yahoo! Regardless of whether the contact tracing program is good or not, we can assert from this result that the testing program works as we would expect. The median here is 178.5 (and we had 178 in the real world) and the probability is pretty much 3%, which is the highest of the distribution."
   ]
  },
  {
   "cell_type": "markdown",
   "metadata": {},
   "source": [
    "## Simulating the binomial distribution\n",
    "\n",
    "Just to close this section, instead of a mathematical proof, let's simulate for the Far West region. We expect a median of 178 with a probability of... you guessed it, 27.0865%.\n",
    "\n",
    "We would simulate for Nepean Blue Mountains but we don't have capable computer hardware to do it in a reasonable amount of time.\n",
    "\n",
    "And since we have a much smaller set of tests we can simulate many, many more times."
   ]
  },
  {
   "cell_type": "code",
   "execution_count": 23,
   "metadata": {},
   "outputs": [
    {
     "data": {
      "text/plain": [
       "positives  positives\n",
       "0          0            101438\n",
       "1          1            203295\n",
       "2          2            202366\n",
       "3          3            135579\n",
       "4          4             67844\n",
       "5          5             26913\n",
       "6          6              9215\n",
       "7          7              2526\n",
       "8          8               645\n",
       "9          9               145\n",
       "10         10               29\n",
       "11         11                4\n",
       "12         12                1\n",
       "Name: positives, dtype: int64"
      ]
     },
     "execution_count": 23,
     "metadata": {},
     "output_type": "execute_result"
    }
   ],
   "source": [
    "result = []\n",
    "for i in range(750000):\n",
    "    test = np.random.choice([True, False], 1388, p=[.001441, 1-.001441])\n",
    "    result.append(np.sum(test))\n",
    "test = pd.DataFrame(result, columns=['positives'])\n",
    "grouped = test.groupby('positives')['positives'].value_counts()\n",
    "grouped"
   ]
  },
  {
   "cell_type": "markdown",
   "metadata": {},
   "source": [
    "Looks good so far! Now let's get the means..."
   ]
  },
  {
   "cell_type": "code",
   "execution_count": 24,
   "metadata": {},
   "outputs": [
    {
     "data": {
      "text/plain": [
       "positives  positives\n",
       "0          0            13.525067\n",
       "1          1            27.106000\n",
       "2          2            26.982133\n",
       "3          3            18.077200\n",
       "4          4             9.045867\n",
       "5          5             3.588400\n",
       "6          6             1.228667\n",
       "7          7             0.336800\n",
       "8          8             0.086000\n",
       "9          9             0.019333\n",
       "10         10            0.003867\n",
       "11         11            0.000533\n",
       "12         12            0.000133\n",
       "Name: positives, dtype: float64"
      ]
     },
     "execution_count": 24,
     "metadata": {},
     "output_type": "execute_result"
    }
   ],
   "source": [
    "grouped / grouped.sum() * 100"
   ]
  },
  {
   "cell_type": "markdown",
   "metadata": {},
   "source": [
    "It's pretty dang close! Interesting enough, the probability that you'll get 13 positive tests in Far West NSW is practically 0!\n",
    "\n",
    "Let's plot this like we did before, by computing the binomial distribution, just to check it out."
   ]
  },
  {
   "cell_type": "markdown",
   "metadata": {},
   "source": [
    "## Inference via Naive Bayesian theory\n",
    "\n",
    "Bayes' theorem states that the probability of A being true, given B, is the function of the probability of B given A by the probability of A, divided by the probability of B. \n",
    "\n",
    "Recall Bayes' theorem:\n",
    "\n",
    "\\begin{equation*}\n",
    "P(A|B) = \\frac{{P(B|A)}.{P(A)}}{P(B)}\n",
    "\\end{equation*}\n",
    "\n",
    "We wish to find the probability that a person is from regional NSW (A) given that they have tested positive for the coronavirus (B). We will compute the probability that a person tests positive (B), being in NSW, and subtract this from 1 to find the probability the person who tested positive is from regional NSW.\n",
    "\n",
    "Naive Bayes stipulates that all possible explanatory variables (Bs) are independent of each other. We will work solely on the assumption that our B is independent of all other explanatory variables."
   ]
  },
  {
   "cell_type": "markdown",
   "metadata": {},
   "source": [
    "Essentially what we want to predict is whether a given positive test case comes from Regional or Metro NSW. Substituting into Bayes theorem:\n",
    "\n",
    "\\begin{equation*}\n",
    "P(metro|pos) = \\frac{{P(pos|metro)}.{P(pos\\_metro \\times metro)}}{P(pos\\_non\\_metro \\times non\\_metro) + P(pos\\_metro \\times metro)}\n",
    "\\end{equation*}\n",
    "\n",
    "and\n",
    "\n",
    "\\begin{equation*}\n",
    "P(regional|pos) = 1 - P(metro|pos)\n",
    "\\end{equation*}\n",
    "\n",
    "First, we need to know the global positive test rate for the general population of NSW."
   ]
  },
  {
   "cell_type": "code",
   "execution_count": 27,
   "metadata": {},
   "outputs": [
    {
     "data": {
      "text/plain": [
       "result             result           \n",
       "Case - Confirmed   Case - Confirmed       3117\n",
       "Tested & excluded  Tested & excluded    535933\n",
       "Name: result, dtype: int64"
      ]
     },
     "execution_count": 27,
     "metadata": {},
     "output_type": "execute_result"
    }
   ],
   "source": [
    "df.groupby('result')['result'].value_counts()"
   ]
  },
  {
   "cell_type": "code",
   "execution_count": 33,
   "metadata": {},
   "outputs": [
    {
     "data": {
      "text/plain": [
       "region    result           \n",
       "metro     Tested & excluded    356298\n",
       "          Case - Confirmed       2326\n",
       "regional  Tested & excluded    155971\n",
       "          Case - Confirmed        647\n",
       "Name: result, dtype: int64"
      ]
     },
     "execution_count": 33,
     "metadata": {},
     "output_type": "execute_result"
    }
   ],
   "source": [
    "df.groupby('region')['result'].value_counts()"
   ]
  },
  {
   "cell_type": "code",
   "execution_count": 53,
   "metadata": {},
   "outputs": [
    {
     "name": "stdout",
     "output_type": "stream",
     "text": [
      "Positive test rate: 0.005816025510651518\n",
      "Negative test rate: 0.9941839744893485\n",
      "Probability lives in regional NSW: 0.3433518953518973\n",
      "Probability lives in metro NSW: 0.6566481046481027\n",
      "Positive test rate regional NSW 0.004148207038487924\n",
      "Positive test rate metro NSW 0.006528243212142645\n",
      "Negative test rate metro NSW 0.9934717567878574\n"
     ]
    }
   ],
   "source": [
    "pos_rate = 3117/535933\n",
    "print('Positive test rate:', pos_rate)\n",
    "neg_rate = 1-pos_rate\n",
    "print('Negative test rate:', neg_rate)\n",
    "p_non_metro = 2777654/(5312163+2777654)\n",
    "print('Probability lives in regional NSW:', p_non_metro)\n",
    "p_metro = 1-p_non_metro\n",
    "print('Probability lives in metro NSW:', p_metro)\n",
    "p_pos_non_metro = 647/155971\n",
    "print('Positive test rate regional NSW', p_pos_non_metro)\n",
    "p_pos_metro = 2326/356298\n",
    "print('Positive test rate metro NSW', p_pos_metro)\n",
    "p_neg_metro = 1-p_pos_metro\n",
    "print('Negative test rate metro NSW', p_neg_metro)"
   ]
  },
  {
   "cell_type": "code",
   "execution_count": 50,
   "metadata": {},
   "outputs": [
    {
     "data": {
      "text/plain": [
       "True"
      ]
     },
     "execution_count": 50,
     "metadata": {},
     "output_type": "execute_result"
    }
   ],
   "source": [
    "numerator = p_pos_metro * p_metro\n",
    "denominator = p_pos_metro * p_metro + p_pos_non_metro * p_non_metro\n",
    "probability = numerator / denominator\n",
    "\n",
    "probability > pos_rate"
   ]
  },
  {
   "cell_type": "code",
   "execution_count": 54,
   "metadata": {},
   "outputs": [
    {
     "name": "stdout",
     "output_type": "stream",
     "text": [
      "0.00428675853193531 0.0057110532809122195 0.7506073435285113\n"
     ]
    }
   ],
   "source": [
    "print(numerator, denominator, probability)"
   ]
  },
  {
   "cell_type": "code",
   "execution_count": 55,
   "metadata": {},
   "outputs": [
    {
     "name": "stdout",
     "output_type": "stream",
     "text": [
      "0.24939265647148867\n"
     ]
    }
   ],
   "source": [
    "print(1-probability)"
   ]
  },
  {
   "cell_type": "markdown",
   "metadata": {},
   "source": [
    "## Conclusions\n",
    "\n",
    "What we have learned is that when you test positive for Coronavirus in NSW, there is a 75% chance you live in metropolitan NSW and a 25% chance you live in regional NSW.\n",
    "\n",
    "So if you are going on an interstate holiday to NSW this year, ensure you only visit regional areas!"
   ]
  },
  {
   "cell_type": "code",
   "execution_count": null,
   "metadata": {},
   "outputs": [],
   "source": []
  }
 ],
 "metadata": {
  "kernelspec": {
   "display_name": "Python 3",
   "language": "python",
   "name": "python3"
  },
  "language_info": {
   "codemirror_mode": {
    "name": "ipython",
    "version": 3
   },
   "file_extension": ".py",
   "mimetype": "text/x-python",
   "name": "python",
   "nbconvert_exporter": "python",
   "pygments_lexer": "ipython3",
   "version": "3.7.1"
  }
 },
 "nbformat": 4,
 "nbformat_minor": 4
}
